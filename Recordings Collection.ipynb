{
 "cells": [
  {
   "cell_type": "markdown",
   "metadata": {},
   "source": [
    "## Import Libraries"
   ]
  },
  {
   "cell_type": "code",
   "execution_count": 1,
   "metadata": {},
   "outputs": [],
   "source": [
    "from scipy.io import wavfile as wav\n",
    "import librosa\n",
    "import sounddevice as sd\n",
    "import IPython.display as ipd\n",
    "import os"
   ]
  },
  {
   "cell_type": "code",
   "execution_count": 2,
   "metadata": {},
   "outputs": [],
   "source": [
    "duration = 2 # (secondi)\n",
    "rec_rate = 44100"
   ]
  },
  {
   "cell_type": "markdown",
   "metadata": {},
   "source": [
    "## Records"
   ]
  },
  {
   "cell_type": "code",
   "execution_count": null,
   "metadata": {},
   "outputs": [],
   "source": [
    "#Raffaele -> Acconsento\n",
    "for i in range(40):\n",
    "    print(\"registrazione iniziata\")\n",
    "    rec = sd.rec(int(duration * rec_rate), samplerate=rec_rate, channels=1, blocking=True)\n",
    "    librosa.output.write_wav(\"recordings/0_raf_{:>03}.wav\".format(i), rec, rec_rate)"
   ]
  },
  {
   "cell_type": "code",
   "execution_count": null,
   "metadata": {
    "scrolled": true
   },
   "outputs": [],
   "source": [
    "#Raffaele -> Rifiuto\n",
    "for i in range(40):\n",
    "    print(\"registrazione iniziata\")\n",
    "    rec = sd.rec(int(duration * rec_rate), samplerate=rec_rate, channels=1, blocking=True)\n",
    "    librosa.output.write_wav(\"recordings/1_raf_{:>03}.wav\".format(i), rec, rec_rate)\n",
    "    print(\"registrazione finita\")"
   ]
  },
  {
   "cell_type": "code",
   "execution_count": 3,
   "metadata": {},
   "outputs": [
    {
     "name": "stdout",
     "output_type": "stream",
     "text": [
      "registrazione iniziata\n",
      "registrazione finita\n",
      "registrazione iniziata\n",
      "registrazione finita\n",
      "registrazione iniziata\n",
      "registrazione finita\n",
      "registrazione iniziata\n",
      "registrazione finita\n",
      "registrazione iniziata\n",
      "registrazione finita\n",
      "registrazione iniziata\n",
      "registrazione finita\n",
      "registrazione iniziata\n",
      "registrazione finita\n",
      "registrazione iniziata\n",
      "registrazione finita\n",
      "registrazione iniziata\n",
      "registrazione finita\n",
      "registrazione iniziata\n",
      "registrazione finita\n",
      "registrazione iniziata\n",
      "registrazione finita\n",
      "registrazione iniziata\n",
      "registrazione finita\n",
      "registrazione iniziata\n",
      "registrazione finita\n",
      "registrazione iniziata\n",
      "registrazione finita\n",
      "registrazione iniziata\n",
      "registrazione finita\n",
      "registrazione iniziata\n",
      "registrazione finita\n",
      "registrazione iniziata\n",
      "registrazione finita\n",
      "registrazione iniziata\n",
      "registrazione finita\n",
      "registrazione iniziata\n",
      "registrazione finita\n",
      "registrazione iniziata\n",
      "registrazione finita\n",
      "registrazione iniziata\n",
      "registrazione finita\n",
      "registrazione iniziata\n",
      "registrazione finita\n",
      "registrazione iniziata\n",
      "registrazione finita\n",
      "registrazione iniziata\n",
      "registrazione finita\n",
      "registrazione iniziata\n",
      "registrazione finita\n",
      "registrazione iniziata\n",
      "registrazione finita\n",
      "registrazione iniziata\n",
      "registrazione finita\n",
      "registrazione iniziata\n",
      "registrazione finita\n",
      "registrazione iniziata\n",
      "registrazione finita\n",
      "registrazione iniziata\n",
      "registrazione finita\n",
      "registrazione iniziata\n",
      "registrazione finita\n",
      "registrazione iniziata\n",
      "registrazione finita\n",
      "registrazione iniziata\n",
      "registrazione finita\n",
      "registrazione iniziata\n",
      "registrazione finita\n",
      "registrazione iniziata\n",
      "registrazione finita\n",
      "registrazione iniziata\n",
      "registrazione finita\n",
      "registrazione iniziata\n",
      "registrazione finita\n",
      "registrazione iniziata\n",
      "registrazione finita\n",
      "registrazione iniziata\n",
      "registrazione finita\n",
      "registrazione iniziata\n",
      "registrazione finita\n"
     ]
    }
   ],
   "source": [
    "#Lorenzo -> Acconsento\n",
    "for i in range(40):\n",
    "    print(\"registrazione iniziata\")\n",
    "    rec = sd.rec(int(duration * rec_rate), samplerate=rec_rate, channels=1, blocking=True)\n",
    "    librosa.output.write_wav(\"recordings/2_lore_{:>03}.wav\".format(i), rec, rec_rate)\n",
    "    print(\"registrazione finita\")"
   ]
  },
  {
   "cell_type": "code",
   "execution_count": 5,
   "metadata": {},
   "outputs": [
    {
     "name": "stdout",
     "output_type": "stream",
     "text": [
      "registrazione iniziata\n",
      "registrazione finita\n",
      "registrazione iniziata\n",
      "registrazione finita\n",
      "registrazione iniziata\n",
      "registrazione finita\n",
      "registrazione iniziata\n",
      "registrazione finita\n",
      "registrazione iniziata\n",
      "registrazione finita\n",
      "registrazione iniziata\n",
      "registrazione finita\n",
      "registrazione iniziata\n",
      "registrazione finita\n",
      "registrazione iniziata\n",
      "registrazione finita\n",
      "registrazione iniziata\n",
      "registrazione finita\n",
      "registrazione iniziata\n",
      "registrazione finita\n",
      "registrazione iniziata\n",
      "registrazione finita\n",
      "registrazione iniziata\n",
      "registrazione finita\n",
      "registrazione iniziata\n",
      "registrazione finita\n",
      "registrazione iniziata\n",
      "registrazione finita\n",
      "registrazione iniziata\n",
      "registrazione finita\n",
      "registrazione iniziata\n",
      "registrazione finita\n",
      "registrazione iniziata\n",
      "registrazione finita\n",
      "registrazione iniziata\n",
      "registrazione finita\n",
      "registrazione iniziata\n",
      "registrazione finita\n",
      "registrazione iniziata\n",
      "registrazione finita\n",
      "registrazione iniziata\n",
      "registrazione finita\n",
      "registrazione iniziata\n",
      "registrazione finita\n",
      "registrazione iniziata\n",
      "registrazione finita\n",
      "registrazione iniziata\n",
      "registrazione finita\n",
      "registrazione iniziata\n",
      "registrazione finita\n",
      "registrazione iniziata\n",
      "registrazione finita\n",
      "registrazione iniziata\n",
      "registrazione finita\n",
      "registrazione iniziata\n",
      "registrazione finita\n",
      "registrazione iniziata\n",
      "registrazione finita\n",
      "registrazione iniziata\n",
      "registrazione finita\n",
      "registrazione iniziata\n",
      "registrazione finita\n",
      "registrazione iniziata\n",
      "registrazione finita\n",
      "registrazione iniziata\n",
      "registrazione finita\n",
      "registrazione iniziata\n",
      "registrazione finita\n",
      "registrazione iniziata\n",
      "registrazione finita\n",
      "registrazione iniziata\n",
      "registrazione finita\n",
      "registrazione iniziata\n",
      "registrazione finita\n",
      "registrazione iniziata\n",
      "registrazione finita\n",
      "registrazione iniziata\n",
      "registrazione finita\n",
      "registrazione iniziata\n",
      "registrazione finita\n"
     ]
    }
   ],
   "source": [
    "#Lorenzo -> Rifiuto\n",
    "for i in range(40):\n",
    "    print(\"registrazione iniziata\")\n",
    "    rec = sd.rec(int(duration * rec_rate), samplerate=rec_rate, channels=1, blocking=True)\n",
    "    librosa.output.write_wav(\"recordings/3_lore_{:>03}.wav\".format(i), rec, rec_rate)\n",
    "    print(\"registrazione finita\")"
   ]
  },
  {
   "cell_type": "markdown",
   "metadata": {},
   "source": [
    "## Test"
   ]
  },
  {
   "cell_type": "code",
   "execution_count": null,
   "metadata": {},
   "outputs": [],
   "source": [
    "ipd.Audio(rec[:,0], rate=44100)"
   ]
  }
 ],
 "metadata": {
  "kernelspec": {
   "display_name": "Python [conda env:dsim] *",
   "language": "python",
   "name": "conda-env-dsim-py"
  },
  "language_info": {
   "codemirror_mode": {
    "name": "ipython",
    "version": 3
   },
   "file_extension": ".py",
   "mimetype": "text/x-python",
   "name": "python",
   "nbconvert_exporter": "python",
   "pygments_lexer": "ipython3",
   "version": "3.7.6"
  }
 },
 "nbformat": 4,
 "nbformat_minor": 2
}
