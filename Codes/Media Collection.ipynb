{
 "cells": [
  {
   "cell_type": "markdown",
   "metadata": {},
   "source": [
    "## Import Libraries"
   ]
  },
  {
   "cell_type": "code",
   "execution_count": 1,
   "metadata": {},
   "outputs": [],
   "source": [
    "from scipy.io import wavfile as wav\n",
    "import librosa\n",
    "import sounddevice as sd\n",
    "import IPython.display as ipd\n",
    "import os\n",
    "import cv2 as cv"
   ]
  },
  {
   "cell_type": "code",
   "execution_count": 2,
   "metadata": {},
   "outputs": [],
   "source": [
    "duration = 2 # (secondi)\n",
    "rec_rate = 44100"
   ]
  },
  {
   "cell_type": "markdown",
   "metadata": {},
   "source": [
    "## Records acquisition"
   ]
  },
  {
   "cell_type": "code",
   "execution_count": null,
   "metadata": {},
   "outputs": [],
   "source": [
    "#Raffaele -> Acconsento\n",
    "for i in range(40):\n",
    "    print(\"registrazione numero {:>01} iniziata\".format(i))\n",
    "    rec = sd.rec(int(duration * rec_rate), samplerate=rec_rate, channels=1, blocking=True)\n",
    "    wav.write(\"recordings2/0_raffaele_{:>03}.wav\".format(i), rec_rate, rec)"
   ]
  },
  {
   "cell_type": "code",
   "execution_count": null,
   "metadata": {},
   "outputs": [],
   "source": [
    "#Raffaele -> Rifiuto\n",
    "for i in range(40):\n",
    "    print(\"registrazione numero {:>01} iniziata\".format(i))\n",
    "    rec = sd.rec(int(duration * rec_rate), samplerate=rec_rate, channels=1, blocking=True)\n",
    "    wav.write(\"recordings2/1_raffaele_{:>03}.wav\".format(i), rec_rate, rec)"
   ]
  },
  {
   "cell_type": "code",
   "execution_count": null,
   "metadata": {},
   "outputs": [],
   "source": [
    "#Lorenzo -> Acconsento\n",
    "for i in range(40):\n",
    "    print(\"registrazione iniziata\")\n",
    "    rec = sd.rec(int(duration * rec_rate), samplerate=rec_rate, channels=1, blocking=True)\n",
    "    librosa.output.write_wav(\"recordings/2_lore_{:>03}.wav\".format(i), rec, rec_rate)\n",
    "    print(\"registrazione finita\")"
   ]
  },
  {
   "cell_type": "code",
   "execution_count": null,
   "metadata": {},
   "outputs": [],
   "source": [
    "#Lorenzo -> Rifiuto\n",
    "for i in range(40):\n",
    "    print(\"registrazione numero {:>01} iniziata\".format(i))\n",
    "    rec = sd.rec(int(duration * rec_rate), samplerate=rec_rate, channels=1, blocking=True)\n",
    "    librosa.output.write_wav(\"recordings2/3_lore_{:>03}.wav\".format(i), rec, rec_rate)\n",
    "    print(\"registrazione finita\")"
   ]
  },
  {
   "cell_type": "code",
   "execution_count": null,
   "metadata": {
    "scrolled": true
   },
   "outputs": [],
   "source": [
    "#Noise\n",
    "for i in range(40):\n",
    "    print(\"registrazione numero {:>01} iniziata\".format(i))\n",
    "    rec = sd.rec(int(duration * rec_rate), samplerate=rec_rate, channels=1, blocking=True)\n",
    "    librosa.output.write_wav(\"recordings2/4_noise_{:>03}.wav\".format(i), rec, rec_rate)\n",
    "    print(\"registrazione finita\")"
   ]
  },
  {
   "cell_type": "markdown",
   "metadata": {},
   "source": [
    "## Images Acquisition"
   ]
  },
  {
   "cell_type": "code",
   "execution_count": 6,
   "metadata": {},
   "outputs": [],
   "source": [
    "face_detector = cv.CascadeClassifier('haarcascade_frontalface_default.xml')"
   ]
  },
  {
   "cell_type": "code",
   "execution_count": 3,
   "metadata": {},
   "outputs": [],
   "source": [
    "raf_train = '/Users/raffaeleanselmo/Desktop/Università/Digital Signal and Image Processing/project/images/TRAINING/1'\n",
    "raf_test = '/Users/raffaeleanselmo/Desktop/Università/Digital Signal and Image Processing/project/images/TEST/1'\n",
    "lore_train = '/Users/raffaeleanselmo/Desktop/Università/Digital Signal and Image Processing/project/images/TRAINING/0'\n",
    "lore_test = '/Users/raffaeleanselmo/Desktop/Università/Digital Signal and Image Processing/project/images/TEST/0'\n",
    "noise_train = '/Users/raffaeleanselmo/Desktop/Università/Digital Signal and Image Processing/project/images/TRAINING/2'\n",
    "noise_test = '/Users/raffaeleanselmo/Desktop/Università/Digital Signal and Image Processing/project/images/TEST/2'"
   ]
  },
  {
   "cell_type": "code",
   "execution_count": 20,
   "metadata": {},
   "outputs": [],
   "source": [
    "def image_acquisition(path, num_images):\n",
    "    i = 0\n",
    "    for i in range(num_images):\n",
    "        # Collegamento al primo dispositivo di tipo video\n",
    "        cap = cv.VideoCapture(0)\n",
    "        # Acquisizione immagine\n",
    "        result, img = cap.read()\n",
    "\n",
    "        faces = face_detector.detectMultiScale(img, minNeighbors=10, minSize=(300,300))\n",
    "\n",
    "        for (x,y,w,h) in faces:\n",
    "            face = img[y:y+h,x:x+h,:]\n",
    "            cv.imwrite(path+'/image{:>03}.jpeg'.format(i), face)\n",
    "            i=i+1\n",
    "\n",
    "    # Rilascio del dispositivo\n",
    "    cap.release()"
   ]
  },
  {
   "cell_type": "code",
   "execution_count": 11,
   "metadata": {},
   "outputs": [],
   "source": [
    "#Raf Training acquisition\n",
    "image_acquisition(raf_train, 300)"
   ]
  },
  {
   "cell_type": "code",
   "execution_count": 21,
   "metadata": {},
   "outputs": [],
   "source": [
    "#Raf Test acquisition\n",
    "image_acquisition(raf_test, 30)"
   ]
  },
  {
   "cell_type": "code",
   "execution_count": 19,
   "metadata": {
    "scrolled": true
   },
   "outputs": [],
   "source": [
    "#Lore Training acquisition\n",
    "image_acquisition(lore_train, 300)"
   ]
  },
  {
   "cell_type": "code",
   "execution_count": 6,
   "metadata": {},
   "outputs": [],
   "source": [
    "#Lore Test acquisition\n",
    "image_acquisition(lore_test, 30)"
   ]
  },
  {
   "cell_type": "code",
   "execution_count": 30,
   "metadata": {
    "scrolled": false
   },
   "outputs": [],
   "source": [
    "#Noise Training acquisition\n",
    "image_acquisition(noise_train, 300)"
   ]
  },
  {
   "cell_type": "code",
   "execution_count": 31,
   "metadata": {},
   "outputs": [],
   "source": [
    "#Noise Test acquisition\n",
    "image_acquisition(noise_test, 30)"
   ]
  }
 ],
 "metadata": {
  "kernelspec": {
   "display_name": "Python 3",
   "language": "python",
   "name": "python3"
  },
  "language_info": {
   "codemirror_mode": {
    "name": "ipython",
    "version": 3
   },
   "file_extension": ".py",
   "mimetype": "text/x-python",
   "name": "python",
   "nbconvert_exporter": "python",
   "pygments_lexer": "ipython3",
   "version": "3.7.6"
  }
 },
 "nbformat": 4,
 "nbformat_minor": 2
}
